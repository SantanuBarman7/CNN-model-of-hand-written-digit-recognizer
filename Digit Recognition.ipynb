{
 "cells": [
  {
   "cell_type": "code",
   "execution_count": 95,
   "metadata": {},
   "outputs": [],
   "source": [
    "from keras.datasets import mnist\n",
    "import matplotlib.pyplot as plt"
   ]
  },
  {
   "cell_type": "code",
   "execution_count": 96,
   "metadata": {},
   "outputs": [],
   "source": [
    "##Load data from MNIST(Modified National Institute of Standards and Technology)\n",
    "\n",
    "(x_train, y_train) , (x_test, y_test) = mnist.load_data()"
   ]
  },
  {
   "cell_type": "code",
   "execution_count": 98,
   "metadata": {},
   "outputs": [
    {
     "data": {
      "image/png": "[encoded data removed]",
      "text/plain": [
       "<Figure size 432x288 with 1 Axes>"
      ]
     },
     "metadata": {
      "needs_background": "light"
     },
     "output_type": "display_data"
    },
    {
     "data": {
      "text/plain": [
       "(28, 28)"
      ]
     },
     "execution_count": 98,
     "metadata": {},
     "output_type": "execute_result"
    }
   ],
   "source": [
    "plt.plot()\n",
    "plt.imshow(x_train[10], cmap ='gray')\n",
    "plt.show()\n",
    "x_train[10].shape"
   ]
  },
  {
   "cell_type": "code",
   "execution_count": 99,
   "metadata": {},
   "outputs": [],
   "source": [
    "from keras.models import Sequential\n",
    "from keras.layers import Dropout\n",
    "from keras.layers import Dense\n",
    "from keras.utils import np_utils"
   ]
  },
  {
   "cell_type": "code",
   "execution_count": 100,
   "metadata": {},
   "outputs": [
    {
     "data": {
      "text/plain": [
       "(60000, 28, 28)"
      ]
     },
     "execution_count": 100,
     "metadata": {},
     "output_type": "execute_result"
    }
   ],
   "source": [
    "x_train.shape"
   ]
  },
  {
   "cell_type": "code",
   "execution_count": 101,
   "metadata": {},
   "outputs": [],
   "source": [
    "#convolutions expect pixel values in dimesions [pixels][height][width][channel-list(3 for RGB, 1 for Gray)] \n",
    "#reshape\n",
    "x_train = x_train.reshape(x_train.shape[0], 28, 28, 1).astype('float32') \n",
    "x_test = x_test.reshape(x_test.shape[0], 28, 28, 1).astype('float32') \n"
   ]
  },
  {
   "cell_type": "code",
   "execution_count": 102,
   "metadata": {},
   "outputs": [],
   "source": [
    "#normalise data image pixels value to range 0-1\n",
    "x_train = x_train/255\n",
    "x_test = x_test/255"
   ]
  },
  {
   "cell_type": "code",
   "execution_count": 103,
   "metadata": {},
   "outputs": [],
   "source": [
    "#Hot Encoding using to_categorical\n",
    "y_train = np_utils.to_categorical(y_train)\n",
    "y_test = np_utils.to_categorical(y_test)"
   ]
  },
  {
   "cell_type": "code",
   "execution_count": 104,
   "metadata": {},
   "outputs": [],
   "source": [
    "#Building Neural Nets"
   ]
  },
  {
   "cell_type": "code",
   "execution_count": 105,
   "metadata": {},
   "outputs": [],
   "source": [
    "from keras.layers.convolutional import Conv2D\n",
    "from keras.layers.convolutional import MaxPooling2D\n",
    "from keras.layers import Flatten"
   ]
  },
  {
   "cell_type": "code",
   "execution_count": 106,
   "metadata": {},
   "outputs": [],
   "source": [
    "#model\n",
    "\n",
    "def CnnModel():\n",
    "    model = Sequential()\n",
    "    model.add(Conv2D(32, (5,5), input_shape = (28, 28, 1), activation = 'relu'))\n",
    "    model.add(MaxPooling2D(pool_size = (2,2)))\n",
    "    model.add(Dropout(0.3))\n",
    "    model.add(Flatten())\n",
    "    model.add(Dense(128, activation = 'relu'))\n",
    "    model.add(Dense(y_test.shape[1], activation = 'softmax'))\n",
    "    \n",
    "    model.compile(loss='categorical_crossentropy', optimizer = 'adam', metrics=['accuracy'])\n",
    "    return model"
   ]
  },
  {
   "cell_type": "code",
   "execution_count": 107,
   "metadata": {},
   "outputs": [
    {
     "name": "stdout",
     "output_type": "stream",
     "text": [
      "Train on 60000 samples, validate on 10000 samples\n",
      "Epoch 1/15\n",
      "60000/60000 [==============================] - 18s 305us/step - loss: 0.2770 - acc: 0.9219 - val_loss: 0.0996 - val_acc: 0.9692\n",
      "Epoch 2/15\n",
      "60000/60000 [==============================] - 18s 296us/step - loss: 0.0874 - acc: 0.9735 - val_loss: 0.0531 - val_acc: 0.9828\n",
      "Epoch 3/15\n",
      "60000/60000 [==============================] - 18s 302us/step - loss: 0.0606 - acc: 0.9820 - val_loss: 0.0393 - val_acc: 0.9879\n",
      "Epoch 4/15\n",
      "60000/60000 [==============================] - 18s 299us/step - loss: 0.0481 - acc: 0.9850 - val_loss: 0.0426 - val_acc: 0.9857\n",
      "Epoch 5/15\n",
      "60000/60000 [==============================] - 18s 298us/step - loss: 0.0394 - acc: 0.9885 - val_loss: 0.0357 - val_acc: 0.9883\n",
      "Epoch 6/15\n",
      "60000/60000 [==============================] - 18s 301us/step - loss: 0.0338 - acc: 0.9892 - val_loss: 0.0330 - val_acc: 0.9893\n",
      "Epoch 7/15\n",
      "60000/60000 [==============================] - 18s 305us/step - loss: 0.0298 - acc: 0.9904 - val_loss: 0.0340 - val_acc: 0.9894\n",
      "Epoch 8/15\n",
      "60000/60000 [==============================] - 19s 312us/step - loss: 0.0244 - acc: 0.9923 - val_loss: 0.0300 - val_acc: 0.9903\n",
      "Epoch 9/15\n",
      "60000/60000 [==============================] - 18s 305us/step - loss: 0.0217 - acc: 0.9929 - val_loss: 0.0333 - val_acc: 0.9896\n",
      "Epoch 10/15\n",
      "60000/60000 [==============================] - 22s 365us/step - loss: 0.0182 - acc: 0.9941 - val_loss: 0.0328 - val_acc: 0.9898\n",
      "Epoch 11/15\n",
      "60000/60000 [==============================] - 22s 372us/step - loss: 0.0173 - acc: 0.9942 - val_loss: 0.0325 - val_acc: 0.9896\n",
      "Epoch 12/15\n",
      "60000/60000 [==============================] - 20s 332us/step - loss: 0.0152 - acc: 0.9949 - val_loss: 0.0315 - val_acc: 0.9895\n",
      "Epoch 13/15\n",
      "60000/60000 [==============================] - 19s 311us/step - loss: 0.0133 - acc: 0.9959 - val_loss: 0.0329 - val_acc: 0.9894\n",
      "Epoch 14/15\n",
      "60000/60000 [==============================] - 19s 314us/step - loss: 0.0128 - acc: 0.9960 - val_loss: 0.0306 - val_acc: 0.9906\n",
      "Epoch 15/15\n",
      "60000/60000 [==============================] - 18s 301us/step - loss: 0.0109 - acc: 0.9963 - val_loss: 0.0302 - val_acc: 0.9897\n",
      "10000/10000 [==============================] - 1s 84us/step\n",
      "1.0300000000000011\n"
     ]
    }
   ],
   "source": [
    "#Run the model\n",
    "model = CnnModel()\n",
    "#fit\n",
    "hist = model.fit(x_train, y_train, validation_data = (x_test, y_test), epochs =15, batch_size = 255)\n",
    "#model Evaluation , verbose =1 will show the animated progress bar\n",
    "result = model.evaluate(x_test, y_test, verbose=1)\n",
    "error = 100-(result[1] * 100)\n",
    "print(error)"
   ]
  },
  {
   "cell_type": "code",
   "execution_count": 25,
   "metadata": {},
   "outputs": [],
   "source": [
    "#Save model"
   ]
  },
  {
   "cell_type": "code",
   "execution_count": 26,
   "metadata": {},
   "outputs": [
    {
     "name": "stdout",
     "output_type": "stream",
     "text": [
      "Trained model saved at model/DigitRecogntion.h5 \n"
     ]
    },
    {
     "data": {
      "image/png": "[encoded data removed]",
      "text/plain": [
       "<Figure size 432x288 with 2 Axes>"
      ]
     },
     "execution_count": 26,
     "metadata": {},
     "output_type": "execute_result"
    },
    {
     "data": {
      "image/png": "[encoded data removed]",
      "text/plain": [
       "<Figure size 432x288 with 2 Axes>"
      ]
     },
     "metadata": {
      "needs_background": "light"
     },
     "output_type": "display_data"
    }
   ],
   "source": [
    "import os\n",
    "save_dir = \"model/\"\n",
    "model_name = 'DigitRecogntion.h5'\n",
    "model_path = os.path.join(save_dir, model_name)\n",
    "model.save(model_path)\n",
    "print('Trained model saved at %s ' % model_path)\n",
    "\n",
    "# plotting\n",
    "fig = plt.figure()\n",
    "plt.subplot(2,1,1)\n",
    "plt.plot(hist.history['acc'])\n",
    "plt.plot(hist.history['val_acc'])\n",
    "plt.title('model accuracy')\n",
    "plt.ylabel('accuracy')\n",
    "plt.xlabel('epoch')\n",
    "plt.legend(['train', 'test'], loc='lower right')\n",
    "\n",
    "plt.subplot(2,1,2)\n",
    "plt.plot(hist.history['loss'])\n",
    "plt.plot(hist.history['val_loss'])\n",
    "plt.title('model loss')\n",
    "plt.ylabel('loss')\n",
    "plt.xlabel('epoch')\n",
    "plt.legend(['train', 'test'], loc='upper right')\n",
    "\n",
    "plt.tight_layout()\n",
    "\n",
    "fig"
   ]
  },
  {
   "cell_type": "code",
   "execution_count": 27,
   "metadata": {},
   "outputs": [
    {
     "name": "stdout",
     "output_type": "stream",
     "text": [
      "Test Loss 0.029397980858544906\n",
      "Test Accuracy 0.9916\n"
     ]
    }
   ],
   "source": [
    "from keras import models \n",
    "mnist_model = models.load_model(\"model/DigitRecogntion.h5\")\n",
    "loss_and_metrics = mnist_model.evaluate(x_test, y_test, verbose=2)\n",
    "\n",
    "print(\"Test Loss\", loss_and_metrics[0])\n",
    "print(\"Test Accuracy\", loss_and_metrics[1])"
   ]
  },
  {
   "cell_type": "code",
   "execution_count": 28,
   "metadata": {},
   "outputs": [],
   "source": [
    "#predictions"
   ]
  },
  {
   "cell_type": "code",
   "execution_count": 163,
   "metadata": {},
   "outputs": [
    {
     "name": "stdout",
     "output_type": "stream",
     "text": [
      "actual value:  [0.0, 0.0, 1.0, 0.0, 0.0, 0.0, 0.0, 0.0, 0.0, 0.0]\n",
      "actual value:  [1.0, 0.0, 0.0, 0.0, 0.0, 0.0, 0.0, 0.0, 0.0, 0.0]\n",
      "actual value:  [0.0, 0.0, 0.0, 1.0, 0.0, 0.0, 0.0, 0.0, 0.0, 0.0]\n",
      "actual value:  [0.0, 0.0, 0.0, 0.0, 0.0, 0.0, 1.0, 0.0, 0.0, 0.0]\n"
     ]
    },
    {
     "data": {
      "image/png": "[encoded data removed]",
      "text/plain": [
       "<Figure size 432x288 with 4 Axes>"
      ]
     },
     "metadata": {
      "needs_background": "light"
     },
     "output_type": "display_data"
    }
   ],
   "source": [
    "import matplotlib.pyplot as plt\n",
    "import random\n",
    "\n",
    "f = plt.figure()\n",
    "\n",
    "for i in range(0,4):\n",
    "    x = random.randint(1,100)\n",
    "    image_index = 4286+x\n",
    "    f.add_subplot(1, 4,i+1)\n",
    "    plt.imshow(x_test[image_index].reshape(28,28), cmap='gray')\n",
    "    predict = model.predict(x_test[image_index].reshape(1,28,28,1))\n",
    "    plt.title(\"prediction:{}\".format(predict.argmax()))\n",
    "    print(\"actual value: \", y_test[1586+x])"
   ]
  },
  {
   "cell_type": "code",
   "execution_count": null,
   "metadata": {},
   "outputs": [],
   "source": []
  }
 ],
 "metadata": {
  "kernelspec": {
   "display_name": "Python 3",
   "language": "python",
   "name": "python3"
  },
  "language_info": {
   "codemirror_mode": {
    "name": "ipython",
    "version": 3
   },
   "file_extension": ".py",
   "mimetype": "text/x-python",
   "name": "python",
   "nbconvert_exporter": "python",
   "pygments_lexer": "ipython3",
   "version": "3.7.3"
  }
 },
 "nbformat": 4,
 "nbformat_minor": 4
}
